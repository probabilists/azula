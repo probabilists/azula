{
 "cells": [
  {
   "cell_type": "markdown",
   "metadata": {},
   "source": [
    "# CIFAR-10\n",
    "\n",
    "This tutorial demonstrates how to build a simple diffusion model with Azula, and train it to generate CIFAR-10 images."
   ]
  },
  {
   "cell_type": "code",
   "execution_count": 1,
   "metadata": {},
   "outputs": [],
   "source": [
    "# !pip install datasets"
   ]
  },
  {
   "cell_type": "code",
   "execution_count": 2,
   "metadata": {},
   "outputs": [],
   "source": [
    "import torch\n",
    "import torch.nn as nn\n",
    "\n",
    "from azula.denoise import PreconditionedDenoiser\n",
    "from azula.nn.embedding import SineEncoding\n",
    "from azula.nn.unet import UNet\n",
    "from azula.noise import VPSchedule\n",
    "from azula.sample import DDIMSampler\n",
    "from datasets import load_dataset\n",
    "from einops import rearrange\n",
    "from PIL import Image\n",
    "from torch.utils.data import DataLoader\n",
    "from torchvision.transforms import RandomHorizontalFlip\n",
    "from torchvision.transforms.functional import to_pil_image, to_tensor\n",
    "from tqdm import tqdm\n",
    "\n",
    "device = \"cuda\""
   ]
  },
  {
   "cell_type": "markdown",
   "metadata": {},
   "source": [
    "## Data"
   ]
  },
  {
   "cell_type": "code",
   "execution_count": 3,
   "metadata": {},
   "outputs": [
    {
     "data": {
      "image/jpeg": "[encoded data removed]",
      "image/png": "[encoded data removed]",
      "text/plain": [
       "<PIL.Image.Image image mode=RGB size=256x256>"
      ]
     },
     "execution_count": 3,
     "metadata": {},
     "output_type": "execute_result"
    }
   ],
   "source": [
    "def transform(rows):\n",
    "    rows[\"img\"] = list(map(to_tensor, rows[\"img\"]))\n",
    "    rows[\"label\"] = list(map(torch.as_tensor, rows[\"label\"]))\n",
    "    return rows\n",
    "\n",
    "\n",
    "cifar10 = load_dataset(\"cifar10\", split=\"train\", keep_in_memory=True)\n",
    "cifar10 = cifar10.with_transform(transform)\n",
    "\n",
    "to_pil_image(cifar10[0][\"img\"]).resize((256, 256), Image.NEAREST)"
   ]
  },
  {
   "cell_type": "code",
   "execution_count": 4,
   "metadata": {},
   "outputs": [],
   "source": [
    "def preprocess(x):\n",
    "    return 2 * x - 1"
   ]
  },
  {
   "cell_type": "code",
   "execution_count": 5,
   "metadata": {},
   "outputs": [],
   "source": [
    "def postprocess(x):\n",
    "    return torch.clip((x + 1) / 2, min=0, max=1)"
   ]
  },
  {
   "cell_type": "markdown",
   "metadata": {},
   "source": [
    "## Diffusion model"
   ]
  },
  {
   "cell_type": "code",
   "execution_count": 6,
   "metadata": {},
   "outputs": [],
   "source": [
    "class UNetWrapper(nn.Module):\n",
    "    def __init__(self):\n",
    "        super().__init__()\n",
    "\n",
    "        self.unet = UNet(\n",
    "            3, 3, 256, hid_channels=[128, 256, 384], hid_blocks=[3, 3, 3], attention_heads={2: 1}\n",
    "        )\n",
    "        self.time_encoding = SineEncoding(256)\n",
    "        self.label_embedding = nn.Embedding(10, 256)\n",
    "\n",
    "    def forward(self, x_t, t, label):\n",
    "        emb = self.time_encoding(t) + self.label_embedding(label)\n",
    "\n",
    "        x_t = rearrange(x_t, \"B (C H W) -> B C H W\", C=3, H=32, W=32)\n",
    "        x_0 = self.unet(x_t, emb)\n",
    "        x_0 = rearrange(x_0, \"B C H W -> B (C H W)\")\n",
    "\n",
    "        return x_0\n",
    "\n",
    "\n",
    "denoiser = PreconditionedDenoiser(backbone=UNetWrapper(), schedule=VPSchedule()).to(device)"
   ]
  },
  {
   "cell_type": "markdown",
   "metadata": {},
   "source": [
    "## Training"
   ]
  },
  {
   "cell_type": "code",
   "execution_count": 7,
   "metadata": {},
   "outputs": [],
   "source": [
    "optimizer = torch.optim.Adam(denoiser.parameters(), lr=1e-4)\n",
    "averaged = torch.optim.swa_utils.AveragedModel(\n",
    "    model=denoiser,\n",
    "    multi_avg_fn=torch.optim.swa_utils.get_ema_multi_avg_fn(0.999),\n",
    ")"
   ]
  },
  {
   "cell_type": "code",
   "execution_count": null,
   "metadata": {},
   "outputs": [
    {
     "name": "stderr",
     "output_type": "stream",
     "text": [
      " 19%|█▉        | 12/64 [09:36<41:34, 47.96s/it, loss=0.688]"
     ]
    }
   ],
   "source": [
    "augment = RandomHorizontalFlip()\n",
    "batch_size = 256\n",
    "\n",
    "loader = DataLoader(\n",
    "    cifar10,\n",
    "    batch_size=batch_size,\n",
    "    shuffle=True,\n",
    "    drop_last=True,\n",
    "    pin_memory=True,\n",
    "    num_workers=4,\n",
    "    persistent_workers=True,\n",
    ")\n",
    "\n",
    "for _ in (bar := tqdm(range(64))):\n",
    "    losses = []\n",
    "\n",
    "    for batch in loader:\n",
    "        x = batch[\"img\"].to(device)\n",
    "        label = batch[\"label\"].to(device)\n",
    "\n",
    "        x = augment(x)\n",
    "        x = preprocess(x).reshape(batch_size, -1)\n",
    "\n",
    "        t = torch.rand((batch_size,), device=device)\n",
    "\n",
    "        loss = denoiser.loss(x, t, label=label).mean() / (3 * 32 * 32)\n",
    "        loss.backward()\n",
    "        losses.append(loss.detach())\n",
    "\n",
    "        optimizer.step()\n",
    "        optimizer.zero_grad()\n",
    "\n",
    "        averaged.update_parameters(denoiser)\n",
    "\n",
    "    bar.set_postfix(loss=torch.stack(losses).mean().item())\n",
    "\n",
    "denoiser = averaged.module"
   ]
  },
  {
   "cell_type": "markdown",
   "metadata": {},
   "source": [
    "## Evaluation"
   ]
  },
  {
   "cell_type": "code",
   "execution_count": null,
   "metadata": {},
   "outputs": [],
   "source": [
    "sampler = DDIMSampler(denoiser, steps=256).to(device)\n",
    "\n",
    "label = torch.randint(10, size=(), device=device)\n",
    "\n",
    "x1 = sampler.init((1, 3 * 32 * 32))\n",
    "x0 = sampler(x1, label=label)\n",
    "\n",
    "to_pil_image(postprocess(x0).reshape(3, 32, 32)).resize((256, 256), Image.NEAREST)"
   ]
  }
 ],
 "metadata": {
  "kernelspec": {
   "display_name": "Python 3 (ipykernel)",
   "language": "python",
   "name": "python3"
  },
  "language_info": {
   "codemirror_mode": {
    "name": "ipython",
    "version": 3
   },
   "file_extension": ".py",
   "mimetype": "text/x-python",
   "name": "python",
   "nbconvert_exporter": "python",
   "pygments_lexer": "ipython3",
   "version": "3.9.18"
  }
 },
 "nbformat": 4,
 "nbformat_minor": 4
}
