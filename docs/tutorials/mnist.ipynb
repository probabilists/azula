{
 "cells": [
  {
   "cell_type": "markdown",
   "metadata": {},
   "source": [
    "# MNIST\n",
    "\n",
    "This tutorial demonstrates how to build a simple diffusion model with Azula, and train it to generate MNIST images."
   ]
  },
  {
   "cell_type": "code",
   "execution_count": 1,
   "metadata": {},
   "outputs": [],
   "source": [
    "# !pip install datasets"
   ]
  },
  {
   "cell_type": "code",
   "execution_count": 2,
   "metadata": {},
   "outputs": [],
   "source": [
    "import torch\n",
    "import torch.nn as nn\n",
    "\n",
    "from datasets import load_dataset\n",
    "from PIL import Image\n",
    "from torch.utils.data import DataLoader\n",
    "from torchvision.transforms.functional import to_pil_image, to_tensor\n",
    "from tqdm import tqdm\n",
    "\n",
    "from azula.denoise import PreconditionedDenoiser\n",
    "from azula.nn.embedding import SineEncoding\n",
    "from azula.nn.unet import UNet\n",
    "from azula.noise import VPSchedule\n",
    "from azula.sample import DDIMSampler\n",
    "\n",
    "device = \"cuda\""
   ]
  },
  {
   "cell_type": "markdown",
   "metadata": {},
   "source": [
    "## Data"
   ]
  },
  {
   "cell_type": "code",
   "execution_count": 3,
   "metadata": {},
   "outputs": [
    {
     "data": {
      "image/jpeg": "[encoded data removed]",
      "image/png": "[encoded data removed]",
      "text/plain": [
       "<PIL.Image.Image image mode=L size=64x64>"
      ]
     },
     "execution_count": 3,
     "metadata": {},
     "output_type": "execute_result"
    }
   ],
   "source": [
    "def transform(rows):\n",
    "    rows[\"image\"] = list(map(to_tensor, rows[\"image\"]))\n",
    "    rows[\"label\"] = list(map(torch.as_tensor, rows[\"label\"]))\n",
    "    return rows\n",
    "\n",
    "\n",
    "dataset = load_dataset(\"mnist\", split=\"train\", keep_in_memory=True)\n",
    "dataset = dataset.with_transform(transform)\n",
    "\n",
    "to_pil_image(dataset[0][\"image\"]).resize((64, 64), Image.NEAREST)"
   ]
  },
  {
   "cell_type": "code",
   "execution_count": 4,
   "metadata": {},
   "outputs": [],
   "source": [
    "def preprocess(x):\n",
    "    return 2 * x - 1"
   ]
  },
  {
   "cell_type": "code",
   "execution_count": 5,
   "metadata": {},
   "outputs": [],
   "source": [
    "def postprocess(x):\n",
    "    return torch.clip((x + 1) / 2, min=0, max=1)"
   ]
  },
  {
   "cell_type": "markdown",
   "metadata": {},
   "source": [
    "## Diffusion model"
   ]
  },
  {
   "cell_type": "code",
   "execution_count": 6,
   "metadata": {},
   "outputs": [],
   "source": [
    "class UNetWrapper(nn.Module):\n",
    "    def __init__(self, channels: int = 1, emb_features: int = 256):\n",
    "        super().__init__()\n",
    "\n",
    "        self.unet = UNet(\n",
    "            in_channels=channels,\n",
    "            out_channels=channels,\n",
    "            hid_channels=[16, 32, 64],\n",
    "            hid_blocks=[2, 2, 2],\n",
    "            attention_heads={2: 1},\n",
    "            mod_features=emb_features,\n",
    "        )\n",
    "\n",
    "        self.label_embedding = nn.Embedding(10, emb_features)\n",
    "        self.time_encoding = nn.Sequential(\n",
    "            SineEncoding(emb_features, omega=1e3),\n",
    "            nn.Linear(emb_features, emb_features),\n",
    "            nn.SiLU(),\n",
    "            nn.Linear(emb_features, emb_features),\n",
    "        )\n",
    "\n",
    "    def forward(self, x_t, log_snr_t, label):\n",
    "        emb = self.time_encoding(log_snr_t) + self.label_embedding(label)\n",
    "        x_0 = self.unet(x_t, emb)\n",
    "        return x_0\n",
    "\n",
    "\n",
    "denoiser = PreconditionedDenoiser(backbone=UNetWrapper(), schedule=VPSchedule()).to(device)"
   ]
  },
  {
   "cell_type": "markdown",
   "metadata": {},
   "source": [
    "## Training"
   ]
  },
  {
   "cell_type": "code",
   "execution_count": 7,
   "metadata": {},
   "outputs": [],
   "source": [
    "optimizer = torch.optim.Adam(denoiser.parameters(), lr=3e-4)"
   ]
  },
  {
   "cell_type": "code",
   "execution_count": 8,
   "metadata": {},
   "outputs": [
    {
     "name": "stderr",
     "output_type": "stream",
     "text": [
      "100%|██████████| 64/64 [18:35<00:00, 17.42s/it, loss=0.151]\n"
     ]
    }
   ],
   "source": [
    "loader = DataLoader(\n",
    "    dataset,\n",
    "    batch_size=256,\n",
    "    shuffle=True,\n",
    "    drop_last=True,\n",
    "    pin_memory=True,\n",
    "    num_workers=2,\n",
    ")\n",
    "\n",
    "for _ in (bar := tqdm(range(64))):\n",
    "    losses = []\n",
    "\n",
    "    for batch in loader:\n",
    "        x = batch[\"image\"].to(device=device)\n",
    "        label = batch[\"label\"].to(device=device)\n",
    "\n",
    "        x = preprocess(x)\n",
    "        t = torch.rand(len(x), device=device)\n",
    "\n",
    "        loss = denoiser.loss(x, t, label=label)\n",
    "        loss.backward()\n",
    "        losses.append(loss.detach())\n",
    "\n",
    "        optimizer.step()\n",
    "        optimizer.zero_grad()\n",
    "\n",
    "    bar.set_postfix(loss=torch.stack(losses).mean().item())"
   ]
  },
  {
   "cell_type": "markdown",
   "metadata": {},
   "source": [
    "## Evaluation"
   ]
  },
  {
   "cell_type": "code",
   "execution_count": 9,
   "metadata": {},
   "outputs": [
    {
     "data": {
      "image/jpeg": "[encoded data removed]",
      "image/png": "[encoded data removed]",
      "text/plain": [
       "<PIL.Image.Image image mode=L size=64x64>"
      ]
     },
     "execution_count": 9,
     "metadata": {},
     "output_type": "execute_result"
    }
   ],
   "source": [
    "sampler = DDIMSampler(denoiser, steps=64).to(device)\n",
    "\n",
    "label = torch.tensor(7, device=device)\n",
    "\n",
    "x1 = sampler.init((1, 1, 28, 28))\n",
    "x0 = sampler(x1, label=label)\n",
    "\n",
    "to_pil_image(postprocess(x0).squeeze()).resize((64, 64), Image.NEAREST)"
   ]
  }
 ],
 "metadata": {
  "kernelspec": {
   "display_name": "azula",
   "language": "python",
   "name": "azula"
  },
  "language_info": {
   "codemirror_mode": {
    "name": "ipython",
    "version": 3
   },
   "file_extension": ".py",
   "mimetype": "text/x-python",
   "name": "python",
   "nbconvert_exporter": "python",
   "pygments_lexer": "ipython3",
   "version": "3.11.11"
  }
 },
 "nbformat": 4,
 "nbformat_minor": 4
}
